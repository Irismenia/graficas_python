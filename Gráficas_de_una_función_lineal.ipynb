{
  "nbformat": 4,
  "nbformat_minor": 0,
  "metadata": {
    "colab": {
      "provenance": [],
      "authorship_tag": "ABX9TyPNy42qUpgp8aa5QTc1N2Dp",
      "include_colab_link": true
    },
    "kernelspec": {
      "name": "python3",
      "display_name": "Python 3"
    },
    "language_info": {
      "name": "python"
    }
  },
  "cells": [
    {
      "cell_type": "markdown",
      "metadata": {
        "id": "view-in-github",
        "colab_type": "text"
      },
      "source": [
        "<a href=\"https://colab.research.google.com/github/Irismenia/graficas_python/blob/main/Gr%C3%A1ficas_de_una_funci%C3%B3n_lineal.ipynb\" target=\"_parent\"><img src=\"https://colab.research.google.com/assets/colab-badge.svg\" alt=\"Open In Colab\"/></a>"
      ]
    },
    {
      "cell_type": "markdown",
      "source": [
        "# GRAFICA DE UNA FUNCIÓN LINEAL"
      ],
      "metadata": {
        "id": "DuxIt40wfRlK"
      }
    },
    {
      "cell_type": "code",
      "execution_count": 7,
      "metadata": {
        "id": "6y1EB6xQe6Bw"
      },
      "outputs": [],
      "source": [
        "# importamos las librerias numpy y matplotlib y le asignamos un alias\n",
        "import numpy as np\n",
        "import matplotlib.pyplot as plt"
      ]
    },
    {
      "cell_type": "code",
      "source": [
        "#Programa para graficar una linea recta, con base en la ecuación y = mx + b\n",
        "#m es la pendiente de la recta\n",
        "#b es el punto de corte con el eje y\n",
        "\n",
        "# número de puntos graficar\n",
        "N = 100\n",
        "#Función para calcular los valores de y\n",
        "def Función_linea(m,x,b):\n",
        "  return m*x + b\n",
        "  #input\n",
        "print(\"------------------------------\")\n",
        "print(\"-----y = mx + b---------------\")\n",
        "print(\"-----------------------------\")\n",
        "\n",
        "m = int(input(\"Digite el valor de la pendiente: \"))\n",
        "b = int(input(\"Digite el valor del punto de corte con ele eje y: \"))\n",
        " \n",
        "# processing \n",
        "x = np.linspace(-10,10, num = N)\n",
        "y = Función_\n",
        "linea(m,x,b)\n",
        "plt.plot(x,y,color = \"r\") \n",
        "plt.xlabel(\"x\")\n",
        "plt.ylabel(\"y\")\n",
        "plt.title(\"Función lineal: y = mx + b\")\n",
        "plt.grid()\n",
        "plt.axhline(y=0,color= \"b\")\n",
        "plt.axvline(x=0,color= \"b\")\n",
        "plt.show()\n",
        "plt.savefig(\"funcion_lineal.png\")"
      ],
      "metadata": {
        "id": "YOtb7LpWfytV"
      },
      "execution_count": null,
      "outputs": []
    }
  ]
}